{
  "nbformat": 4,
  "nbformat_minor": 0,
  "metadata": {
    "colab": {
      "provenance": [],
      "include_colab_link": true
    },
    "kernelspec": {
      "name": "python3",
      "display_name": "Python 3"
    },
    "language_info": {
      "name": "python"
    }
  },
  "cells": [
    {
      "cell_type": "markdown",
      "metadata": {
        "id": "view-in-github",
        "colab_type": "text"
      },
      "source": [
        "<a href=\"https://colab.research.google.com/github/cjagadis/AICD/blob/master/AgentPro_Part_A.ipynb\" target=\"_parent\"><img src=\"https://colab.research.google.com/assets/colab-badge.svg\" alt=\"Open In Colab\"/></a>"
      ]
    },
    {
      "cell_type": "markdown",
      "source": [],
      "metadata": {
        "id": "u59hzqOwg2ZB"
      }
    },
    {
      "cell_type": "code",
      "source": [
        "!pip install yfinance matplotlib fpdf qiskit python-pptx openai --quiet"
      ],
      "metadata": {
        "colab": {
          "base_uri": "https://localhost:8080/"
        },
        "id": "EfKvogaRzcr2",
        "outputId": "cec13051-b1e8-430c-accc-caa7fd3ac37c"
      },
      "execution_count": null,
      "outputs": [
        {
          "output_type": "stream",
          "name": "stdout",
          "text": [
            "Requirement already satisfied: yfinance in /usr/local/lib/python3.10/dist-packages (0.2.43)\n",
            "Requirement already satisfied: matplotlib in /usr/local/lib/python3.10/dist-packages (3.7.1)\n",
            "Collecting fpdf\n",
            "  Downloading fpdf-1.7.2.tar.gz (39 kB)\n",
            "  Preparing metadata (setup.py) ... \u001b[?25l\u001b[?25hdone\n",
            "Collecting qiskit\n",
            "  Downloading qiskit-1.2.2-cp38-abi3-manylinux_2_17_x86_64.manylinux2014_x86_64.whl.metadata (12 kB)\n",
            "Requirement already satisfied: pandas>=1.3.0 in /usr/local/lib/python3.10/dist-packages (from yfinance) (2.1.4)\n",
            "Requirement already satisfied: numpy>=1.16.5 in /usr/local/lib/python3.10/dist-packages (from yfinance) (1.26.4)\n",
            "Requirement already satisfied: requests>=2.31 in /usr/local/lib/python3.10/dist-packages (from yfinance) (2.32.3)\n",
            "Requirement already satisfied: multitasking>=0.0.7 in /usr/local/lib/python3.10/dist-packages (from yfinance) (0.0.11)\n",
            "Requirement already satisfied: lxml>=4.9.1 in /usr/local/lib/python3.10/dist-packages (from yfinance) (4.9.4)\n",
            "Requirement already satisfied: platformdirs>=2.0.0 in /usr/local/lib/python3.10/dist-packages (from yfinance) (4.3.6)\n",
            "Requirement already satisfied: pytz>=2022.5 in /usr/local/lib/python3.10/dist-packages (from yfinance) (2024.2)\n",
            "Requirement already satisfied: frozendict>=2.3.4 in /usr/local/lib/python3.10/dist-packages (from yfinance) (2.4.4)\n",
            "Requirement already satisfied: peewee>=3.16.2 in /usr/local/lib/python3.10/dist-packages (from yfinance) (3.17.6)\n",
            "Requirement already satisfied: beautifulsoup4>=4.11.1 in /usr/local/lib/python3.10/dist-packages (from yfinance) (4.12.3)\n",
            "Requirement already satisfied: html5lib>=1.1 in /usr/local/lib/python3.10/dist-packages (from yfinance) (1.1)\n",
            "Requirement already satisfied: contourpy>=1.0.1 in /usr/local/lib/python3.10/dist-packages (from matplotlib) (1.3.0)\n",
            "Requirement already satisfied: cycler>=0.10 in /usr/local/lib/python3.10/dist-packages (from matplotlib) (0.12.1)\n",
            "Requirement already satisfied: fonttools>=4.22.0 in /usr/local/lib/python3.10/dist-packages (from matplotlib) (4.53.1)\n",
            "Requirement already satisfied: kiwisolver>=1.0.1 in /usr/local/lib/python3.10/dist-packages (from matplotlib) (1.4.7)\n",
            "Requirement already satisfied: packaging>=20.0 in /usr/local/lib/python3.10/dist-packages (from matplotlib) (24.1)\n",
            "Requirement already satisfied: pillow>=6.2.0 in /usr/local/lib/python3.10/dist-packages (from matplotlib) (10.4.0)\n",
            "Requirement already satisfied: pyparsing>=2.3.1 in /usr/local/lib/python3.10/dist-packages (from matplotlib) (3.1.4)\n",
            "Requirement already satisfied: python-dateutil>=2.7 in /usr/local/lib/python3.10/dist-packages (from matplotlib) (2.8.2)\n",
            "Collecting rustworkx>=0.15.0 (from qiskit)\n",
            "  Downloading rustworkx-0.15.1-cp38-abi3-manylinux_2_17_x86_64.manylinux2014_x86_64.whl.metadata (9.9 kB)\n",
            "Requirement already satisfied: scipy>=1.5 in /usr/local/lib/python3.10/dist-packages (from qiskit) (1.13.1)\n",
            "Requirement already satisfied: sympy>=1.3 in /usr/local/lib/python3.10/dist-packages (from qiskit) (1.13.2)\n",
            "Collecting dill>=0.3 (from qiskit)\n",
            "  Downloading dill-0.3.8-py3-none-any.whl.metadata (10 kB)\n",
            "Collecting stevedore>=3.0.0 (from qiskit)\n",
            "  Downloading stevedore-5.3.0-py3-none-any.whl.metadata (2.3 kB)\n",
            "Requirement already satisfied: typing-extensions in /usr/local/lib/python3.10/dist-packages (from qiskit) (4.12.2)\n",
            "Collecting symengine>=0.11 (from qiskit)\n",
            "  Downloading symengine-0.11.0-cp310-cp310-manylinux_2_12_x86_64.manylinux2010_x86_64.whl.metadata (1.2 kB)\n",
            "Requirement already satisfied: soupsieve>1.2 in /usr/local/lib/python3.10/dist-packages (from beautifulsoup4>=4.11.1->yfinance) (2.6)\n",
            "Requirement already satisfied: six>=1.9 in /usr/local/lib/python3.10/dist-packages (from html5lib>=1.1->yfinance) (1.16.0)\n",
            "Requirement already satisfied: webencodings in /usr/local/lib/python3.10/dist-packages (from html5lib>=1.1->yfinance) (0.5.1)\n",
            "Requirement already satisfied: tzdata>=2022.1 in /usr/local/lib/python3.10/dist-packages (from pandas>=1.3.0->yfinance) (2024.1)\n",
            "Requirement already satisfied: charset-normalizer<4,>=2 in /usr/local/lib/python3.10/dist-packages (from requests>=2.31->yfinance) (3.3.2)\n",
            "Requirement already satisfied: idna<4,>=2.5 in /usr/local/lib/python3.10/dist-packages (from requests>=2.31->yfinance) (3.10)\n",
            "Requirement already satisfied: urllib3<3,>=1.21.1 in /usr/local/lib/python3.10/dist-packages (from requests>=2.31->yfinance) (2.0.7)\n",
            "Requirement already satisfied: certifi>=2017.4.17 in /usr/local/lib/python3.10/dist-packages (from requests>=2.31->yfinance) (2024.8.30)\n",
            "Collecting pbr>=2.0.0 (from stevedore>=3.0.0->qiskit)\n",
            "  Downloading pbr-6.1.0-py2.py3-none-any.whl.metadata (3.4 kB)\n",
            "Requirement already satisfied: mpmath<1.4,>=1.1.0 in /usr/local/lib/python3.10/dist-packages (from sympy>=1.3->qiskit) (1.3.0)\n",
            "Downloading qiskit-1.2.2-cp38-abi3-manylinux_2_17_x86_64.manylinux2014_x86_64.whl (4.7 MB)\n",
            "\u001b[2K   \u001b[90m━━━━━━━━━━━━━━━━━━━━━━━━━━━━━━━━━━━━━━━━\u001b[0m \u001b[32m4.7/4.7 MB\u001b[0m \u001b[31m43.3 MB/s\u001b[0m eta \u001b[36m0:00:00\u001b[0m\n",
            "\u001b[?25hDownloading dill-0.3.8-py3-none-any.whl (116 kB)\n",
            "\u001b[2K   \u001b[90m━━━━━━━━━━━━━━━━━━━━━━━━━━━━━━━━━━━━━━━━\u001b[0m \u001b[32m116.3/116.3 kB\u001b[0m \u001b[31m6.7 MB/s\u001b[0m eta \u001b[36m0:00:00\u001b[0m\n",
            "\u001b[?25hDownloading rustworkx-0.15.1-cp38-abi3-manylinux_2_17_x86_64.manylinux2014_x86_64.whl (2.0 MB)\n",
            "\u001b[2K   \u001b[90m━━━━━━━━━━━━━━━━━━━━━━━━━━━━━━━━━━━━━━━━\u001b[0m \u001b[32m2.0/2.0 MB\u001b[0m \u001b[31m46.8 MB/s\u001b[0m eta \u001b[36m0:00:00\u001b[0m\n",
            "\u001b[?25hDownloading stevedore-5.3.0-py3-none-any.whl (49 kB)\n",
            "\u001b[2K   \u001b[90m━━━━━━━━━━━━━━━━━━━━━━━━━━━━━━━━━━━━━━━━\u001b[0m \u001b[32m49.7/49.7 kB\u001b[0m \u001b[31m3.0 MB/s\u001b[0m eta \u001b[36m0:00:00\u001b[0m\n",
            "\u001b[?25hDownloading symengine-0.11.0-cp310-cp310-manylinux_2_12_x86_64.manylinux2010_x86_64.whl (39.4 MB)\n",
            "\u001b[2K   \u001b[90m━━━━━━━━━━━━━━━━━━━━━━━━━━━━━━━━━━━━━━━━\u001b[0m \u001b[32m39.4/39.4 MB\u001b[0m \u001b[31m19.2 MB/s\u001b[0m eta \u001b[36m0:00:00\u001b[0m\n",
            "\u001b[?25hDownloading pbr-6.1.0-py2.py3-none-any.whl (108 kB)\n",
            "\u001b[2K   \u001b[90m━━━━━━━━━━━━━━━━━━━━━━━━━━━━━━━━━━━━━━━━\u001b[0m \u001b[32m108.5/108.5 kB\u001b[0m \u001b[31m7.1 MB/s\u001b[0m eta \u001b[36m0:00:00\u001b[0m\n",
            "\u001b[?25hBuilding wheels for collected packages: fpdf\n",
            "  Building wheel for fpdf (setup.py) ... \u001b[?25l\u001b[?25hdone\n",
            "  Created wheel for fpdf: filename=fpdf-1.7.2-py2.py3-none-any.whl size=40704 sha256=d97060045cb0f20262d4d8d90540273021ea41dbc9523e2084e6295f8b6f78b5\n",
            "  Stored in directory: /root/.cache/pip/wheels/f9/95/ba/f418094659025eb9611f17cbcaf2334236bf39a0c3453ea455\n",
            "Successfully built fpdf\n",
            "Installing collected packages: fpdf, symengine, rustworkx, pbr, dill, stevedore, qiskit\n",
            "Successfully installed dill-0.3.8 fpdf-1.7.2 pbr-6.1.0 qiskit-1.2.2 rustworkx-0.15.1 stevedore-5.3.0 symengine-0.11.0\n"
          ]
        }
      ]
    },
    {
      "cell_type": "code",
      "source": [
        "from openai import OpenAI\n",
        "import os\n",
        "from google.colab import userdata\n",
        "import base64\n",
        "import requests\n",
        "from PIL import Image\n",
        "from io import BytesIO\n",
        "\n",
        "\n",
        "os.environ[\"OPENAI_API_KEY\"] = userdata.get('OPENAI_API_KEY')"
      ],
      "metadata": {
        "id": "JQgEVsExsTDo"
      },
      "execution_count": null,
      "outputs": []
    },
    {
      "cell_type": "code",
      "execution_count": null,
      "metadata": {
        "id": "d4hTdH58sKA3"
      },
      "outputs": [],
      "source": [
        "\n",
        "import subprocess\n",
        "import tempfile\n",
        "import re\n",
        "import importlib\n",
        "import sys\n",
        "\n",
        "class AgentPro:\n",
        "\n",
        "\n",
        "    def generate_code(self, prompt):\n",
        "        client = OpenAI()\n",
        "        response = client.chat.completions.create(\n",
        "        model=\"gpt-4o\",\n",
        "        messages=[\n",
        "          {\"role\": \"system\", \"content\": \"You are a Python code generator. Respond only with executable Python code, no explanations or comments except for required pip installations at the top.\"},\n",
        "          {\"role\": \"user\", \"content\": f\"Generate Python code to {prompt}. If you need to use any external libraries, include a comment at the top of the code listing the required pip installations.\"}\n",
        "        ],\n",
        "        max_tokens=4000,\n",
        "        temperature=0.7,\n",
        "        top_p=1,\n",
        "        frequency_penalty=0,\n",
        "        presence_penalty=0\n",
        "        )\n",
        "        code = re.sub(r'^```python\\n|^```\\n|```$', '', response.choices[0].message.content, flags=re.MULTILINE)\n",
        "        code_lines = code.split('\\n')\n",
        "        while code_lines and not (code_lines[0].startswith('import') or code_lines[0].startswith('from') or code_lines[0].startswith('#')):\n",
        "            code_lines.pop(0)\n",
        "\n",
        "        return '\\n'.join(code_lines)\n",
        "\n",
        "        #return\n",
        "\n",
        "\n",
        "    def install_libraries(self, code):\n",
        "        libraries = re.findall(r'#\\s*pip install\\s+([\\w-]+)', code)\n",
        "        if libraries:\n",
        "            print(\"Installing required libraries...\")\n",
        "            for lib in libraries:\n",
        "                try:\n",
        "                    importlib.import_module(lib.replace('-', '_'))\n",
        "                    print(f\"{lib} is already installed.\")\n",
        "                except ImportError:\n",
        "                    print(f\"Installing {lib}...\")\n",
        "                    subprocess.check_call([sys.executable, \"-m\", \"pip\", \"install\", lib])\n",
        "            print(\"Libraries installed successfully.\")\n",
        "\n",
        "\n",
        "    def execute_code(self, code):\n",
        "        with tempfile.NamedTemporaryFile(mode='w', suffix='.py', delete=False) as temp_file:\n",
        "            temp_file.write(code)\n",
        "            temp_file_path = temp_file.name\n",
        "\n",
        "        try:\n",
        "            result = subprocess.run(['python', temp_file_path], capture_output=True, text=True, timeout=30)\n",
        "            output = result.stdout\n",
        "            error = result.stderr\n",
        "        except subprocess.TimeoutExpired:\n",
        "            output = \"\"\n",
        "            error = \"Execution timed out after 30 seconds.\"\n",
        "        finally:\n",
        "            os.unlink(temp_file_path)\n",
        "\n",
        "        return output, error\n",
        "\n",
        "    def run(self, prompt):\n",
        "        print(f\"Generating code for: {prompt}\")\n",
        "        code = self.generate_code(prompt)\n",
        "        print(\"Generated code:\")\n",
        "        print(code)\n",
        "        print(\"\\nExecuting code...\")\n",
        "        output, error = self.execute_code(code)\n",
        "\n",
        "        if output:\n",
        "            print(\"Output:\")\n",
        "            print(output)\n",
        "        if error:\n",
        "            print(\"Error:\")\n",
        "            print(error)\n",
        "\n"
      ]
    },
    {
      "cell_type": "code",
      "source": [
        "# Example usage\n",
        "if __name__ == \"__main__\":\n",
        "    agent = AgentPro()\n",
        "    agent.run(\"make a detailed deck on the best forms of leadership with at least 10 slides and save it to a pptx called leadership.pptx\")"
      ],
      "metadata": {
        "colab": {
          "base_uri": "https://localhost:8080/"
        },
        "id": "TRLbM5artNk8",
        "outputId": "117445fd-2089-4ce3-b56a-938a9ac23d03"
      },
      "execution_count": null,
      "outputs": [
        {
          "output_type": "stream",
          "name": "stdout",
          "text": [
            "Generating code for: make a detailed deck on the best forms of leadership with at least 10 slides and save it to a pptx called leadership.pptx\n",
            "Generated code:\n",
            "# Required pip installations:\n",
            "# pip install python-pptx\n",
            "\n",
            "from pptx import Presentation\n",
            "from pptx.util import Inches\n",
            "\n",
            "prs = Presentation()\n",
            "\n",
            "slide_titles = [\n",
            "    \"Introduction to Leadership\",\n",
            "    \"Transformational Leadership\",\n",
            "    \"Transactional Leadership\",\n",
            "    \"Servant Leadership\",\n",
            "    \"Democratic Leadership\",\n",
            "    \"Autocratic Leadership\",\n",
            "    \"Laissez-Faire Leadership\",\n",
            "    \"Charismatic Leadership\",\n",
            "    \"Situational Leadership\",\n",
            "    \"Conclusion\"\n",
            "]\n",
            "\n",
            "slide_contents = [\n",
            "    \"Leadership is the art of motivating a group of people to act towards achieving a common goal. In this presentation, we will explore various forms of leadership.\",\n",
            "    \"Transformational Leadership: Inspires and motivates team members to innovate and create change that will help grow and shape the future success of the company.\",\n",
            "    \"Transactional Leadership: Focuses on supervision, organization, and performance; leadership is based on a system of rewards and punishments.\",\n",
            "    \"Servant Leadership: Leaders prioritize serving the needs of their team members and helping them grow and perform as highly as possible.\",\n",
            "    \"Democratic Leadership: Leaders make decisions based on the input of each team member; every team member has an equal say in the direction of a project.\",\n",
            "    \"Autocratic Leadership: Leaders make decisions unilaterally, without much input from team members; effective for quick decision-making.\",\n",
            "    \"Laissez-Faire Leadership: Leaders take a hands-off approach, allowing team members to make the majority of decisions.\",\n",
            "    \"Charismatic Leadership: Leaders inspire enthusiasm in their teams and are energetic in motivating others to move forward.\",\n",
            "    \"Situational Leadership: Leaders adjust their style to fit the development level of the followers they are trying to influence.\",\n",
            "    \"In conclusion, effective leadership varies depending on the context and the individuals involved. The best leaders are adaptable and can employ different styles as needed.\"\n",
            "]\n",
            "\n",
            "for title, content in zip(slide_titles, slide_contents):\n",
            "    slide_layout = prs.slide_layouts[1]\n",
            "    slide = prs.slides.add_slide(slide_layout)\n",
            "    title_placeholder = slide.shapes.title\n",
            "    body_placeholder = slide.placeholders[1]\n",
            "    \n",
            "    title_placeholder.text = title\n",
            "    text_frame = body_placeholder.text_frame\n",
            "    p = text_frame.add_paragraph()\n",
            "    p.text = content\n",
            "\n",
            "prs.save('leadership.pptx')\n",
            "\n",
            "\n",
            "Executing code...\n"
          ]
        }
      ]
    }
  ]
}